{
  "nbformat": 4,
  "nbformat_minor": 0,
  "metadata": {
    "colab": {
      "provenance": [],
      "authorship_tag": "ABX9TyO4LRDOtRzWN0y9cv+dUxul",
      "include_colab_link": true
    },
    "kernelspec": {
      "name": "python3",
      "display_name": "Python 3"
    },
    "language_info": {
      "name": "python"
    }
  },
  "cells": [
    {
      "cell_type": "markdown",
      "metadata": {
        "id": "view-in-github",
        "colab_type": "text"
      },
      "source": [
        "<a href=\"https://colab.research.google.com/github/gabriellfelipe7/Udemy_PowerBI-Completo/blob/main/PowerBI_Completo_Udemy.ipynb\" target=\"_parent\"><img src=\"https://colab.research.google.com/assets/colab-badge.svg\" alt=\"Open In Colab\"/></a>"
      ]
    },
    {
      "cell_type": "markdown",
      "source": [
        "# **Curso Udemy - Power BI Completo**\n",
        "Materiais: https://drive.google.com/drive/folders/1li5nEeeYm-WEqiCQumKBLFkzTDN0d3tF"
      ],
      "metadata": {
        "id": "RjMOgLQ9mHg3"
      }
    },
    {
      "cell_type": "markdown",
      "source": [
        "# Importando dados\n",
        "Passos após a importação:\n",
        "- Renomear tabela;\n",
        "- Verificar cabeçalho;\n",
        "- Remover colunas nulas e inúteis;\n",
        "- Ordenar colunas;\n",
        "- Remover linhas em branco;\n",
        "- Remover linhas identicas;\n",
        "- Formatação final das colunas"
      ],
      "metadata": {
        "id": "6MHXJWlFmn5G"
      }
    },
    {
      "cell_type": "code",
      "execution_count": null,
      "metadata": {
        "id": "6hqb-xWdl912"
      },
      "outputs": [],
      "source": []
    }
  ]
}