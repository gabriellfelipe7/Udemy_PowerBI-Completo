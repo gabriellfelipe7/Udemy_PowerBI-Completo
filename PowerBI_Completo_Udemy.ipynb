{
  "nbformat": 4,
  "nbformat_minor": 0,
  "metadata": {
    "colab": {
      "provenance": [],
      "authorship_tag": "ABX9TyPZFQLKV5Pv2P1/OnOAOr3y",
      "include_colab_link": true
    },
    "kernelspec": {
      "name": "python3",
      "display_name": "Python 3"
    },
    "language_info": {
      "name": "python"
    }
  },
  "cells": [
    {
      "cell_type": "markdown",
      "metadata": {
        "id": "view-in-github",
        "colab_type": "text"
      },
      "source": [
        "<a href=\"https://colab.research.google.com/github/gabriellfelipe7/Udemy_PowerBI-Completo/blob/main/PowerBI_Completo_Udemy.ipynb\" target=\"_parent\"><img src=\"https://colab.research.google.com/assets/colab-badge.svg\" alt=\"Open In Colab\"/></a>"
      ]
    },
    {
      "cell_type": "markdown",
      "source": [
        "# **Curso Udemy - Power BI Completo**\n",
        "Materiais: https://drive.google.com/drive/folders/1li5nEeeYm-WEqiCQumKBLFkzTDN0d3tF"
      ],
      "metadata": {
        "id": "RjMOgLQ9mHg3"
      }
    },
    {
      "cell_type": "markdown",
      "source": [
        "# Importando dados\n",
        "Passos após a importação:\n",
        "- Renomear tabela;\n",
        "- Verificar cabeçalho;\n",
        "- Remover colunas nulas e inúteis;\n",
        "- Ordenar colunas;\n",
        "- Remover linhas em branco;\n",
        "- Remover linhas identicas;\n",
        "- Formatação final das colunas"
      ],
      "metadata": {
        "id": "6MHXJWlFmn5G"
      }
    },
    {
      "cell_type": "markdown",
      "source": [
        "# **FORMATAÇÕES**"
      ],
      "metadata": {
        "id": "MbTVbkpcjlz_"
      }
    },
    {
      "cell_type": "markdown",
      "source": [
        "# Formatações de Texto\n",
        "- guia transformar: altera a coluna existente;\n",
        "- guia adicionar coluna: cria outra coluna e faz a alteração;\n"
      ],
      "metadata": {
        "id": "8yvZs43Nado6"
      }
    },
    {
      "cell_type": "markdown",
      "source": [
        "#Formatação de número\n",
        "- O sinal da moeda (reais, dólares etc.) não aparecem na tabela, entretanto, aparecerá nos visuais;\n",
        "- Métodos matemáticos em uma coluna; entre colunas etc."
      ],
      "metadata": {
        "id": "1E-X2s2xcbOG"
      }
    },
    {
      "cell_type": "markdown",
      "source": [
        "# Formatação de Data\n",
        "- Usar adicionar colunas na maioria das vezes;\n",
        "- Método \"idade\""
      ],
      "metadata": {
        "id": "fYOwC54zeP54"
      }
    },
    {
      "cell_type": "markdown",
      "source": [
        "# Colunas Condicionais\n",
        "- Cria uma nova coluna a partir de condições utilizando valores de outras colunas: um if, elif e else."
      ],
      "metadata": {
        "id": "sUQpG8WIoWnp"
      }
    },
    {
      "cell_type": "markdown",
      "source": [
        "# Colunas de Índice\n",
        "- método \"coluna de índice\"\n",
        "- colocar como primeira coluna"
      ],
      "metadata": {
        "id": "n-ODPWFIqapS"
      }
    },
    {
      "cell_type": "markdown",
      "source": [],
      "metadata": {
        "id": "qDRqfwa2jkh3"
      }
    },
    {
      "cell_type": "markdown",
      "source": [
        "# **FERRAMENTAS DE DADOS**"
      ],
      "metadata": {
        "id": "fds7KEVYlizH"
      }
    },
    {
      "cell_type": "markdown",
      "source": [
        "# Ferramenta de Agrupar\n",
        "- Agrupa os dados da tabela com base em uma coluna"
      ],
      "metadata": {
        "id": "XVCMnXyMmlFn"
      }
    },
    {
      "cell_type": "code",
      "source": [],
      "metadata": {
        "id": "o53_lKIflhAW"
      },
      "execution_count": null,
      "outputs": []
    }
  ]
}