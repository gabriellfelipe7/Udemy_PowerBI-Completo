{
  "nbformat": 4,
  "nbformat_minor": 0,
  "metadata": {
    "colab": {
      "provenance": [],
      "authorship_tag": "ABX9TyOsIopWQU6qZj8XXnpGLvuY",
      "include_colab_link": true
    },
    "kernelspec": {
      "name": "python3",
      "display_name": "Python 3"
    },
    "language_info": {
      "name": "python"
    }
  },
  "cells": [
    {
      "cell_type": "markdown",
      "metadata": {
        "id": "view-in-github",
        "colab_type": "text"
      },
      "source": [
        "<a href=\"https://colab.research.google.com/github/gabriellfelipe7/Udemy_PowerBI-Completo/blob/main/PowerBI_Completo_Udemy.ipynb\" target=\"_parent\"><img src=\"https://colab.research.google.com/assets/colab-badge.svg\" alt=\"Open In Colab\"/></a>"
      ]
    },
    {
      "cell_type": "markdown",
      "source": [
        "# **Curso Udemy - Power BI Completo**\n",
        "Materiais: https://drive.google.com/drive/folders/1li5nEeeYm-WEqiCQumKBLFkzTDN0d3tF"
      ],
      "metadata": {
        "id": "RjMOgLQ9mHg3"
      }
    },
    {
      "cell_type": "markdown",
      "source": [
        "# Importando dados\n",
        "Passos após a importação:\n",
        "- Renomear tabela;\n",
        "- Verificar cabeçalho;\n",
        "- Remover colunas nulas e inúteis;\n",
        "- Ordenar colunas;\n",
        "- Remover linhas em branco;\n",
        "- Remover linhas identicas;\n",
        "- Formatação final das colunas"
      ],
      "metadata": {
        "id": "6MHXJWlFmn5G"
      }
    },
    {
      "cell_type": "markdown",
      "source": [
        "# **FORMATAÇÕES**"
      ],
      "metadata": {
        "id": "MbTVbkpcjlz_"
      }
    },
    {
      "cell_type": "markdown",
      "source": [
        "# Formatações de Texto\n",
        "- guia transformar: altera a coluna existente;\n",
        "- guia adicionar coluna: cria outra coluna e faz a alteração;\n"
      ],
      "metadata": {
        "id": "8yvZs43Nado6"
      }
    },
    {
      "cell_type": "markdown",
      "source": [
        "#Formatação de número\n",
        "- O sinal da moeda (reais, dólares etc.) não aparecem na tabela, entretanto, aparecerá nos visuais;\n",
        "- Métodos matemáticos em uma coluna; entre colunas etc."
      ],
      "metadata": {
        "id": "1E-X2s2xcbOG"
      }
    },
    {
      "cell_type": "markdown",
      "source": [
        "# Formatação de Data\n",
        "- Usar adicionar colunas na maioria das vezes;\n",
        "- Método \"idade\""
      ],
      "metadata": {
        "id": "fYOwC54zeP54"
      }
    },
    {
      "cell_type": "markdown",
      "source": [
        "# Colunas Condicionais\n",
        "- Cria uma nova coluna a partir de condições utilizando valores de outras colunas: um if, elif e else."
      ],
      "metadata": {
        "id": "sUQpG8WIoWnp"
      }
    },
    {
      "cell_type": "markdown",
      "source": [
        "# Colunas de Índice\n",
        "- método \"coluna de índice\"\n",
        "- colocar como primeira coluna"
      ],
      "metadata": {
        "id": "n-ODPWFIqapS"
      }
    },
    {
      "cell_type": "markdown",
      "source": [],
      "metadata": {
        "id": "qDRqfwa2jkh3"
      }
    },
    {
      "cell_type": "markdown",
      "source": [
        "# **FERRAMENTAS DE DADOS**"
      ],
      "metadata": {
        "id": "fds7KEVYlizH"
      }
    },
    {
      "cell_type": "markdown",
      "source": [
        "# Ferramenta de Agrupar\n",
        "- Agrupa os dados da tabela com base em uma coluna"
      ],
      "metadata": {
        "id": "XVCMnXyMmlFn"
      }
    },
    {
      "cell_type": "markdown",
      "source": [
        "# Mesclar ou Intercalar Tabelas\n",
        "- Mesclar utilizando a tabela atual;\n",
        "- Mesclar criando uma nova tabela mesclada;\n",
        "- Em ambos os casos necessário é ter uma coluna chave onde as duas tabelas se relacionam "
      ],
      "metadata": {
        "id": "llhC3v-VVu1T"
      }
    },
    {
      "cell_type": "markdown",
      "source": [
        "# Adicionar informações (append)\n",
        "- Mesclar utilizando a tabela atual;\n",
        "- Mesclar criando uma nova tabela com linhas acrescentadas;\n",
        "- as colunas que estão em uma tabela mas não estão em outra permanecerão como nulas;"
      ],
      "metadata": {
        "id": "xv21V7uoYybt"
      }
    },
    {
      "cell_type": "markdown",
      "source": [
        "#**Relações**"
      ],
      "metadata": {
        "id": "3SFOoPMp4dz4"
      }
    },
    {
      "cell_type": "markdown",
      "source": [
        "#Objetivo\n",
        "Tornar as tabelas menos poluidas; dimuir o tamanho do arquivo; aumentar a produtividade; aumentar a rapidez das manipulações."
      ],
      "metadata": {
        "id": "WSBz15zh5ByG"
      }
    },
    {
      "cell_type": "markdown",
      "source": [
        "#Tabela Calendário\n",
        "- chave priméria: chave única na tabela;\n",
        "- chave secundária: se relaciona com a chave primária, pode aparecer mais de uma vez na tabela;"
      ],
      "metadata": {
        "id": "i-m_XUG85NwG"
      }
    },
    {
      "cell_type": "markdown",
      "source": [
        "- = List.Dates(#date(1900,1,1), Number.From(DateTime.LocalNow())- Number.From(#date(1900,1,1)) ,#duration(1,0,0,0))"
      ],
      "metadata": {
        "id": "uYXcXTIcl5f-"
      }
    },
    {
      "cell_type": "code",
      "source": [],
      "metadata": {
        "id": "OMGEDtX5bh8m"
      },
      "execution_count": null,
      "outputs": []
    },
    {
      "cell_type": "code",
      "source": [],
      "metadata": {
        "id": "o53_lKIflhAW"
      },
      "execution_count": null,
      "outputs": []
    }
  ]
}