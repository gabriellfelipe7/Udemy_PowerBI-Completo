{
  "nbformat": 4,
  "nbformat_minor": 0,
  "metadata": {
    "colab": {
      "provenance": [],
      "authorship_tag": "ABX9TyMKdCEya1llPFtB4hz4orer",
      "include_colab_link": true
    },
    "kernelspec": {
      "name": "python3",
      "display_name": "Python 3"
    },
    "language_info": {
      "name": "python"
    }
  },
  "cells": [
    {
      "cell_type": "markdown",
      "metadata": {
        "id": "view-in-github",
        "colab_type": "text"
      },
      "source": [
        "<a href=\"https://colab.research.google.com/github/gabriellfelipe7/Udemy_PowerBI-Completo/blob/main/PowerBI_Completo_Udemy.ipynb\" target=\"_parent\"><img src=\"https://colab.research.google.com/assets/colab-badge.svg\" alt=\"Open In Colab\"/></a>"
      ]
    },
    {
      "cell_type": "markdown",
      "source": [
        "# **Curso Udemy - Power BI Completo**\n",
        "Materiais: https://drive.google.com/drive/folders/1li5nEeeYm-WEqiCQumKBLFkzTDN0d3tF"
      ],
      "metadata": {
        "id": "RjMOgLQ9mHg3"
      }
    },
    {
      "cell_type": "markdown",
      "source": [
        "# Importando dados\n",
        "Passos após a importação:\n",
        "- Renomear tabela;\n",
        "- Verificar cabeçalho;\n",
        "- Remover colunas nulas e inúteis;\n",
        "- Ordenar colunas;\n",
        "- Remover linhas em branco;\n",
        "- Remover linhas identicas;\n",
        "- Formatação final das colunas"
      ],
      "metadata": {
        "id": "6MHXJWlFmn5G"
      }
    },
    {
      "cell_type": "markdown",
      "source": [
        "# **FORMATAÇÕES**"
      ],
      "metadata": {
        "id": "MbTVbkpcjlz_"
      }
    },
    {
      "cell_type": "markdown",
      "source": [
        "# Formatações de Texto\n",
        "- guia transformar: altera a coluna existente;\n",
        "- guia adicionar coluna: cria outra coluna e faz a alteração;\n"
      ],
      "metadata": {
        "id": "8yvZs43Nado6"
      }
    },
    {
      "cell_type": "markdown",
      "source": [
        "#Formatação de número\n",
        "- O sinal da moeda (reais, dólares etc.) não aparecem na tabela, entretanto, aparecerá nos visuais;\n",
        "- Métodos matemáticos em uma coluna; entre colunas etc."
      ],
      "metadata": {
        "id": "1E-X2s2xcbOG"
      }
    },
    {
      "cell_type": "markdown",
      "source": [
        "# Formatação de Data\n",
        "- Usar adicionar colunas na maioria das vezes;\n",
        "- Método \"idade\""
      ],
      "metadata": {
        "id": "fYOwC54zeP54"
      }
    },
    {
      "cell_type": "markdown",
      "source": [
        "# Colunas Condicionais\n",
        "- Cria uma nova coluna a partir de condições utilizando valores de outras colunas: um if, elif e else."
      ],
      "metadata": {
        "id": "sUQpG8WIoWnp"
      }
    },
    {
      "cell_type": "markdown",
      "source": [
        "# Colunas de Índice\n",
        "- método \"coluna de índice\"\n",
        "- colocar como primeira coluna"
      ],
      "metadata": {
        "id": "n-ODPWFIqapS"
      }
    },
    {
      "cell_type": "markdown",
      "source": [],
      "metadata": {
        "id": "qDRqfwa2jkh3"
      }
    },
    {
      "cell_type": "markdown",
      "source": [
        "# **FERRAMENTAS DE DADOS**"
      ],
      "metadata": {
        "id": "fds7KEVYlizH"
      }
    },
    {
      "cell_type": "markdown",
      "source": [
        "# Ferramenta de Agrupar\n",
        "- Agrupa os dados da tabela com base em uma coluna"
      ],
      "metadata": {
        "id": "XVCMnXyMmlFn"
      }
    },
    {
      "cell_type": "markdown",
      "source": [
        "# Mesclar ou Intercalar Tabelas\n",
        "- Mesclar utilizando a tabela atual;\n",
        "- Mesclar criando uma nova tabela mesclada;\n",
        "- Em ambos os casos necessário é ter uma coluna chave onde as duas tabelas se relacionam "
      ],
      "metadata": {
        "id": "llhC3v-VVu1T"
      }
    },
    {
      "cell_type": "markdown",
      "source": [
        "# Adicionar informações (append)\n",
        "- Mesclar utilizando a tabela atual;\n",
        "- Mesclar criando uma nova tabela com linhas acrescentadas;\n",
        "- as colunas que estão em uma tabela mas não estão em outra permanecerão como nulas;"
      ],
      "metadata": {
        "id": "xv21V7uoYybt"
      }
    },
    {
      "cell_type": "markdown",
      "source": [
        "#**Relações**"
      ],
      "metadata": {
        "id": "3SFOoPMp4dz4"
      }
    },
    {
      "cell_type": "markdown",
      "source": [
        "#Objetivo\n",
        "Tornar as tabelas menos poluidas; dimuir o tamanho do arquivo; aumentar a produtividade; aumentar a rapidez das manipulações."
      ],
      "metadata": {
        "id": "WSBz15zh5ByG"
      }
    },
    {
      "cell_type": "markdown",
      "source": [
        "#Tabela Calendário\n",
        "- chave priméria: chave única na tabela;\n",
        "- chave secundária: se relaciona com a chave primária, pode aparecer mais de uma vez na tabela;"
      ],
      "metadata": {
        "id": "i-m_XUG85NwG"
      }
    },
    {
      "cell_type": "markdown",
      "source": [
        "- = List.Dates(#date(1900,1,1), Number.From(DateTime.LocalNow())- Number.From(#date(1900,1,1)) ,#duration(1,0,0,0))"
      ],
      "metadata": {
        "id": "uYXcXTIcl5f-"
      }
    },
    {
      "cell_type": "markdown",
      "source": [
        "# Relações Indiretas\n",
        "São relações que não são diretas, isto é, aquela que as relações não são entre tabela1 e tabela2, e sim, indiretamente entre uma tabela1 e tabela3 através da tabela tabela2."
      ],
      "metadata": {
        "id": "IjCx1MEYm9qf"
      }
    },
    {
      "cell_type": "markdown",
      "source": [
        "# **Funções no Power BI DAX**"
      ],
      "metadata": {
        "id": "E8FiYsKMSsZV"
      }
    },
    {
      "cell_type": "markdown",
      "source": [
        "#Operadores especiais\n",
        "- &: operador de concatenação;\n",
        "- &&: fórmula \"e\" do excel; analisar mais de uma condição ao mesmo tempo;\n",
        "- ||: fórmula \"ou\" do excel; analisar uma ou outra condição;\n",
        "- IN: facilita quando há mais de um critério para uma coluna;"
      ],
      "metadata": {
        "id": "MtFc0Shh0sDv"
      }
    },
    {
      "cell_type": "markdown",
      "source": [
        "#**Principais fórmulas DAX**\n",
        "# Formulas de Texto\n",
        "- left: pega n caracteres a esquerda no texto;\n",
        "- right: pega n caracteres a direita no texto\n",
        "- search: procura um caracter e retorna a posição dele;\n"
      ],
      "metadata": {
        "id": "p7lXA9DT5b7S"
      }
    },
    {
      "cell_type": "markdown",
      "source": [
        "#Fórmulas de data\n",
        "- eomonth: mostra a o ultimo dia do mês\n",
        "- datediff: faz a diferença de datas"
      ],
      "metadata": {
        "id": "iQ6y0dEJFf3R"
      }
    },
    {
      "cell_type": "markdown",
      "source": [
        "#Fórmula RELATED\n",
        "Parecido comum PROCV, puxa os dados de uma outra tabela relacionada coma a tabela de origem."
      ],
      "metadata": {
        "id": "5DRTGZCCGJDQ"
      }
    },
    {
      "cell_type": "markdown",
      "source": [
        "#**Medidas - DAX**\n",
        "A medidas necessitam de uma operação antes de colocarmos o nome da coluna."
      ],
      "metadata": {
        "id": "pCFhfbypRuld"
      }
    },
    {
      "cell_type": "markdown",
      "source": [
        "# Operações Comuns\n",
        "- sum: operação de soma\n",
        "- count: conta os números em uma coluna\n",
        "- countrows: conta as linhas;\n",
        "- counta: conta os valores de uma coluna;\n",
        "- distinctcount: conta os valores diferentes;\n",
        "- calculate: realiza uma operação baseado em uma condição; CALCULATE(operação, critério) ##OBS: O filtro no calculate sobrepõe qualquer outro filtro \n",
        "- all: inverso do calculate, garante que nenhum filtro será colocado; cria basicamento uma constante baseada na tabela \n",
        "- filter: ume extensao do calculate que permite usar medidas para verificar alguma informação (permite usar medidas como critério/filtro, diferente do calculate) -> estrutura: CALCULATE(operação, FILTER(nome_tabela, filtro da medida)) ##OBS: Mais pesado para o Power BI\n"
      ],
      "metadata": {
        "id": "Cmn6lOGOikId"
      }
    },
    {
      "cell_type": "markdown",
      "source": [
        "#Funções Iterativas\n",
        "- SUMX: permite realizar operações antes de calcualar o que foi solicitado efetivamente, no caso, a soma\n",
        "- Todas as outras funções e cálculos que possuem o X ao final seguem o mesmo padrão."
      ],
      "metadata": {
        "id": "kuXtNngysdGu"
      }
    },
    {
      "cell_type": "markdown",
      "source": [
        "# **Relatórios - Resultados do Power BI**"
      ],
      "metadata": {
        "id": "oGNen7I7TZiv"
      }
    },
    {
      "cell_type": "markdown",
      "source": [
        "- Exploração dos visuais"
      ],
      "metadata": {
        "id": "uLE1UgSYTlJo"
      }
    },
    {
      "cell_type": "markdown",
      "source": [
        "#**Indicadores + KPI + Inteligência de Tempo**\n"
      ],
      "metadata": {
        "id": "oJRmLOVD6CpF"
      }
    },
    {
      "cell_type": "markdown",
      "source": [
        "#Nova Base Calendário\n",
        "Base criada através da linguagem DAX. A fórmula utilizada é a CALENDARAUTO()"
      ],
      "metadata": {
        "id": "mBMkjeyI6LKb"
      }
    },
    {
      "cell_type": "markdown",
      "source": [
        "# DATEADD - Comparação com o mês anterior\n",
        "- Faturamento do mesmo mês no ano anterior = CALCULATE(sum(BaseVendas[Valor Pedido]), DATEADD(Calendario[Date],-1,YEAR))\n",
        "- % Crescimento Anual = ([Faturamento Total] - [Faturamento do mesmo mês no ano anterior])/[Faturamento do mesmo mês no ano anterior]\n",
        "- Faturamento do mês anterior = CALCULATE(sum(BaseVendas[Valor Pedido]), DATEADD(Calendario[Date],-1, MONTH))\n",
        "- % Crescimento Anual = ([Faturamento Total] - [Faturamento do mês anterior])/[Faturamento do mês anterior]\n",
        "- Faturamento acumulado = CALCULATE(sum(BaseVendas[Valor Pedido]), DATESYTD(Calendario[Date]))"
      ],
      "metadata": {
        "id": "s_l2jKuz99h9"
      }
    }
  ]
}